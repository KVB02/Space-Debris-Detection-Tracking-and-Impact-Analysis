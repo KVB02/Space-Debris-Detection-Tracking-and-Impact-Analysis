{
 "cells": [
  {
   "cell_type": "code",
   "execution_count": null,
   "id": "1f71c764",
   "metadata": {},
   "outputs": [],
   "source": [
    "import pandas as pd\n",
    "import numpy as np\n",
    "import matplotlib.pyplot as plt\n",
    "import seaborn as sns\n",
    "from sklearn.model_selection import train_test_split\n",
    "# from imblearn.over_sampling import RandomOverSampler\n",
    "from sklearn.impute import SimpleImputer\n",
    "from sklearn.preprocessing import StandardScaler"
   ]
  },
  {
   "cell_type": "code",
   "execution_count": null,
   "id": "3817127c",
   "metadata": {},
   "outputs": [],
   "source": [
    "space_track_data = pd.read_csv('space_track_final_data.csv')\n",
    "ucs_satellite = pd.read_excel('UCS-Satellite-Database.xlsx')"
   ]
  },
  {
   "cell_type": "code",
   "execution_count": null,
   "id": "468098cf",
   "metadata": {},
   "outputs": [],
   "source": [
    "# List of columns to check\n",
    "columns_to_check = ['INTLDES', 'NORAD_CAT_ID', 'OBJECT_TYPE', 'SATNAME', 'COUNTRY', 'LAUNCH']\n",
    "\n",
    "# Check data types of the columns\n",
    "column_types = {column: space_track_data[column].dtype for column in columns_to_check if column in space_track_data.columns}\n",
    "\n",
    "print(column_types)"
   ]
  },
  {
   "cell_type": "code",
   "execution_count": null,
   "id": "3fa3ba2b",
   "metadata": {},
   "outputs": [],
   "source": [
    "space_track_data.describe"
   ]
  },
  {
   "cell_type": "code",
   "execution_count": null,
   "id": "74842ac4",
   "metadata": {},
   "outputs": [],
   "source": [
    "ucs_col_names = ucs_satellite.columns\n",
    "\n",
    "ucs_satellite = ucs_satellite[ucs_satellite.columns.drop(list(ucs_satellite.filter(regex='Unnamed:')))]\n",
    "ucs_satellite.head()"
   ]
  },
  {
   "cell_type": "code",
   "execution_count": null,
   "id": "118e5682",
   "metadata": {},
   "outputs": [],
   "source": [
    "columns_to_check = ['NORAD Number', 'Current Official Name of Satellite', 'Country of Operator/Owner', 'Users', 'Class of Orbit']\n",
    "\n",
    "# Check data types of the columns\n",
    "column_types = {column: ucs_satellite[column].dtype for column in columns_to_check if column in ucs_satellite.columns}\n",
    "\n",
    "print(column_types)"
   ]
  },
  {
   "cell_type": "code",
   "execution_count": null,
   "id": "086e9e1f",
   "metadata": {},
   "outputs": [],
   "source": [
    "def summary_stats(df):\n",
    "    \n",
    "    summary = df.describe()\n",
    "    missing_vals = df.isna().sum()\n",
    "    \n",
    "    return summary,missing_vals"
   ]
  },
  {
   "cell_type": "code",
   "execution_count": null,
   "id": "269461fe",
   "metadata": {},
   "outputs": [],
   "source": [
    "summary_space_track,missing_space_track = summary_stats(space_track_data)\n",
    "print(summary_space_track)\n",
    "print(missing_space_track)\n",
    "len(space_track_data)"
   ]
  },
  {
   "cell_type": "code",
   "execution_count": null,
   "id": "7265d262",
   "metadata": {},
   "outputs": [],
   "source": [
    "summary_ucs, missing_ucs = summary_stats(ucs_satellite)\n",
    "print(summary_ucs)\n",
    "print(missing_ucs)\n",
    "len(ucs_satellite)"
   ]
  },
  {
   "cell_type": "markdown",
   "id": "badd3316",
   "metadata": {},
   "source": [
    "## Data Preprocessing"
   ]
  },
  {
   "cell_type": "code",
   "execution_count": null,
   "id": "65a754b1",
   "metadata": {},
   "outputs": [],
   "source": [
    "def preprocessing(df,c_drop,c_fill,c_char,c_dt,impute='mean'):\n",
    "    \n",
    "    #Dropping columns\n",
    "    df = df.drop(columns = c_drop, errors = 'ignore')\n",
    "    \n",
    "    \n",
    "    # Filling missing values\n",
    "    for c in c_fill:\n",
    "        if impute == 'mean':\n",
    "            df[c].fillna(df[c].mean(),inplace = True)\n",
    "        elif impute == 'median':\n",
    "            df[c].fillna(df[c].median(),inplace = True)\n",
    "    \n",
    "    #Converting data to date and time format\n",
    "    for t in c_dt:\n",
    "        df[t] = pd.to_datetime(df[t],errors = 'coerce')\n",
    "    \n",
    "    \n",
    "    #Converting data to category\n",
    "    for char in c_char:\n",
    "        df[char] = df[char].astype('category')\n",
    "        \n",
    "               \n",
    "    \n",
    "    return df"
   ]
  },
  {
   "cell_type": "code",
   "execution_count": null,
   "id": "aed6d9f8",
   "metadata": {},
   "outputs": [],
   "source": [
    "space_track_cols_to_drop = ['COMMENT', 'COMMENTCODE', 'RCS_SIZE'] \n",
    "space_track_cols_to_impute = ['PERIOD', 'INCLINATION', 'APOGEE', 'PERIGEE']\n",
    "space_track_date_columns = ['LAUNCH', 'DECAY']\n",
    "space_track_categorical_columns = ['OBJECT_TYPE', 'COUNTRY', 'SITE']\n",
    "\n",
    "space_track_data = preprocessing(space_track_data,space_track_cols_to_drop,space_track_cols_to_impute,space_track_categorical_columns,space_track_date_columns,)\n",
    "\n",
    "ucs_cols_to_drop = ['Detailed Purpose', 'Type of Orbit', 'Dry Mass (kg.)', 'Power (watts)', 'Comments'] + ['Source', 'Source.1', 'Source.2', 'Source.3', 'Source.4', 'Source.5', 'Source.6']\n",
    "ucs_cols_to_impute = ['Expected Lifetime (yrs.)', 'Longitude of GEO (degrees)', 'Period (minutes)']\n",
    "ucs_date_columns = ['Date of Launch']\n",
    "ucs_categorical_columns = ['Class of Orbit', 'Purpose', 'Users']\n",
    "\n",
    "ucs_satellite = preprocessing(ucs_satellite,ucs_cols_to_drop,ucs_cols_to_impute,ucs_categorical_columns,ucs_date_columns,)\n",
    "ucs_satellite = ucs_satellite[ucs_satellite['Inclination (degrees)'] != 'USA']\n",
    "ucs_satellite['Inclination (degrees)'] = ucs_satellite['Inclination (degrees)'].astype('int64')"
   ]
  },
  {
   "cell_type": "code",
   "execution_count": null,
   "id": "3333258d",
   "metadata": {},
   "outputs": [],
   "source": [
    "def quality_and_integrity_check(df, dataset_name):\n",
    "    print(f\"--- Quality and Integrity Check for {dataset_name} Dataset ---\")\n",
    "    \n",
    "    # Check for null values\n",
    "    total_nulls = df.isnull().sum().sum()\n",
    "    print(f\"Total null values: {total_nulls}\")\n",
    "    \n",
    "    # Check data types\n",
    "    print(\"\\nData Types:\")\n",
    "    print(df.dtypes)\n",
    "\n",
    "    # Check for duplicates\n",
    "    duplicates = df.duplicated().sum()\n",
    "    print(f\"\\nNumber of duplicate rows: {duplicates}\")\n",
    "\n",
    "    # Display basic statistics for numerical columns\n",
    "    print(\"\\nBasic Statistics for Numerical Columns:\")\n",
    "    print(df.describe())\n",
    "\n",
    "    # Display first few rows of the dataset\n",
    "    print(\"\\nFirst few rows of the dataset:\")\n",
    "    print(df.head())\n",
    "    \n",
    "    print(\"\\n------------------------------------------------\\n\")\n",
    "\n",
    "# Perform checks on each dataset\n",
    "quality_and_integrity_check(space_track_data, \"Space-Track\")\n",
    "quality_and_integrity_check(reentry_history, \"Re-entry History\")\n",
    "quality_and_integrity_check(ucs_satellite, \"UCS Satellite\")\n"
   ]
  },
  {
   "cell_type": "markdown",
   "id": "ff2e86c3",
   "metadata": {},
   "source": [
    "## EDA"
   ]
  },
  {
   "cell_type": "code",
   "execution_count": null,
   "id": "839b2a86",
   "metadata": {},
   "outputs": [],
   "source": [
    "# Definfing a function to perform Exploratory Data Analysis\n",
    "\n",
    "def eda(df,name):\n",
    "    \n",
    "    print(f\"Performing EDA on {name}\")\n",
    "    \n",
    "    # Summary Stats\n",
    "    print(\"\\n Descriptive Stats\")\n",
    "    print(df.describe())\n",
    "    \n",
    "    #Pair plot for all the numeric columns\n",
    "    \n",
    "    sns.pairplot(df.select_dtypes(include = ['float64','int64']))\n",
    "    plt.title(f\"Pair plot for Numeric Data\")\n",
    "    plt.show()\n",
    "    \n",
    "    \n",
    "    # Correlation Heatmap for numerical features only\n",
    "    numeric_df = df.select_dtypes(include=['float64', 'int64'])\n",
    "    if not numeric_df.empty:\n",
    "        plt.figure(figsize=(10, 8))\n",
    "        sns.heatmap(numeric_df.corr(), annot=True, fmt=\".2f\")\n",
    "        plt.title(f'Correlation Heatmap of {name}')\n",
    "        plt.show()\n",
    "    \n",
    "    \n",
    "    # Histograms for all numerical features\n",
    "    \n",
    "    df.hist(bins=15, figsize=(15, 10), layout=(5, 3))\n",
    "    plt.suptitle(f'Histograms of Numerical Features in {name}')\n",
    "    plt.show()\n",
    "    \n",
    "    # Boxplots for all numerical features\n",
    "    for column in df.select_dtypes(include=['float64', 'int64']).columns:\n",
    "        plt.figure(figsize=(7, 4))\n",
    "        sns.boxplot(x=df[column])\n",
    "        plt.title(f'Boxplot of {column} in {name}')\n",
    "        plt.show()\n",
    "\n",
    "    # Bar plots for categorical features\n",
    "    for column in df.select_dtypes(include=['category', 'object']).columns:\n",
    "        plt.figure(figsize=(7, 4))\n",
    "        df[column].value_counts().plot(kind='bar')\n",
    "        plt.title(f'Bar Plot of {column} in {name}')\n",
    "        plt.show()\n",
    "        \n",
    "    \n",
    "    # Time Series Analysis \n",
    "    time_columns = df.select_dtypes(include=['datetime']).columns\n",
    "    for col in time_columns:\n",
    "        plt.figure(figsize=(10, 4))\n",
    "        df[col].value_counts().sort_index().plot(kind='line')\n",
    "        plt.title(f'Time Series Plot of {col} in {name}')\n",
    "        plt.show()\n",
    "        \n",
    "    \n",
    "    print(\"\\nMissing Values Analysis:\")\n",
    "    print(df.isnull().sum())\n",
    "    \n",
    "    \n",
    "    print(\"\\nSkewness and Kurtosis:\")\n",
    "    print(df.select_dtypes(include=['float64', 'int64']).agg(['skew', 'kurtosis']).transpose())\n",
    "\n",
    "    for column in df.select_dtypes(include=['category', 'object']).columns:\n",
    "        print(f'\\nFrequency Distribution for {column}:')\n",
    "        print(df[column].value_counts())\n"
   ]
  },
  {
   "cell_type": "code",
   "execution_count": null,
   "id": "faef00e1",
   "metadata": {},
   "outputs": [],
   "source": [
    "space_track_sample = space_track_data.sample(frac = 0.001)\n",
    "df_name = 'Space Track'\n",
    "len(space_track_sample)\n",
    "eda(space_track_sample,df_name)"
   ]
  },
  {
   "cell_type": "code",
   "execution_count": null,
   "id": "0420578f",
   "metadata": {},
   "outputs": [],
   "source": [
    "# Replace 'LEo' with 'LEO' in the 'Class of Orbit' column\n",
    "ucs_satellite['Class of Orbit'] = ucs_satellite['Class of Orbit'].replace('LEo', 'LEO')\n",
    "ucs_satellite['Users'] = ucs_satellite['Users'].replace('Commercial ', 'Commercial')\n",
    "ucs_satellite['Users'] = ucs_satellite['Users'].replace('Government ', 'Government')\n",
    "ucs_satellite['Users'] = ucs_satellite['Users'].replace('Military ', 'Military')\n",
    "\n",
    "ucs_satellite['Users'] = ucs_satellite['Users'].replace('Civil/Commercial', 'Commercial/Civil')\n",
    "ucs_satellite['Users'] = ucs_satellite['Users'].replace('Commercial/Government', 'Government/Commercial')\n",
    "ucs_satellite['Users'] = ucs_satellite['Users'].replace('Commercial/Military', 'Military/Commercial')\n",
    "ucs_satellite['Users'] = ucs_satellite['Users'].replace('Civil/Military', 'Military/Civil')\n",
    "ucs_satellite['Users'] = ucs_satellite['Users'].replace('Civil/Government', 'Government/Civil')\n",
    "ucs_satellite['Users'] = ucs_satellite['Users'].replace('Government/Military', 'Military/Government')"
   ]
  },
  {
   "cell_type": "code",
   "execution_count": null,
   "id": "329bab5c",
   "metadata": {},
   "outputs": [],
   "source": [
    "ucs_sample = ucs_satellite.sample(frac = 0.01)\n",
    "ucs_name = 'UCS Satellite'\n",
    "len(ucs_sample)\n",
    "eda(ucs_sample,ucs_name)"
   ]
  },
  {
   "cell_type": "code",
   "execution_count": null,
   "id": "8e1cd2de",
   "metadata": {},
   "outputs": [],
   "source": []
  }
 ],
 "metadata": {
  "kernelspec": {
   "display_name": "Python 3 (ipykernel)",
   "language": "python",
   "name": "python3"
  },
  "language_info": {
   "codemirror_mode": {
    "name": "ipython",
    "version": 3
   },
   "file_extension": ".py",
   "mimetype": "text/x-python",
   "name": "python",
   "nbconvert_exporter": "python",
   "pygments_lexer": "ipython3",
   "version": "3.11.5"
  }
 },
 "nbformat": 4,
 "nbformat_minor": 5
}
